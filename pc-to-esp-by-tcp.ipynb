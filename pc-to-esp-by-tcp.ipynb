{
 "cells": [
  {
   "cell_type": "code",
   "execution_count": null,
   "id": "1225763d",
   "metadata": {},
   "outputs": [],
   "source": [
    "import urllib.request\n",
    "root_url = \"http://192.168.43.123\"  # ESP's url, ex: http://192.168.102 (Esp prints it to serial console when connected to wifi)\n",
    "\n",
    "def sendRequest(url):\n",
    "\tn = urllib.request.urlopen(url) # send request to ESP\n",
    "\n",
    "# Example usage\n",
    "while True:\n",
    "\tanswer = input(\"\"\" To control the led, type \"ON\" or \"OFF\": \"\"\")\n",
    "\tif (answer==\"ON\"):\n",
    "\t\tsendRequest(root_url+\"/OPEN_LED\")\n",
    "\t\tprint(\"Opened!\\n\\n\")\n",
    "\tif (answer==\"OFF\"):\n",
    "\t\tsendRequest(root_url+\"/CLOSE_LED\")\n",
    "\t\tprint(\"Closed!\\n\\n\")"
   ]
  },
  {
   "cell_type": "code",
   "execution_count": null,
   "id": "d328980e",
   "metadata": {},
   "outputs": [],
   "source": []
  }
 ],
 "metadata": {
  "kernelspec": {
   "display_name": "Python 3",
   "language": "python",
   "name": "python3"
  },
  "language_info": {
   "codemirror_mode": {
    "name": "ipython",
    "version": 3
   },
   "file_extension": ".py",
   "mimetype": "text/x-python",
   "name": "python",
   "nbconvert_exporter": "python",
   "pygments_lexer": "ipython3",
   "version": "3.6.5"
  }
 },
 "nbformat": 4,
 "nbformat_minor": 5
}
