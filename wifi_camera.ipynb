{
 "cells": [
  {
   "cell_type": "code",
   "execution_count": 1,
   "metadata": {},
   "outputs": [
    {
     "name": "stdout",
     "output_type": "stream",
     "text": [
      "HOST IP: 192.168.137.186\n",
      "LISTENING AT: ('192.168.137.186', 9999)\n"
     ]
    }
   ],
   "source": [
    "import socket, cv2, pickle,struct,imutils\n",
    "\n",
    "# Socket Create\n",
    "server_socket = socket.socket(socket.AF_INET,socket.SOCK_STREAM)\n",
    "host_name  = socket.gethostname()\n",
    "host_ip = socket.gethostbyname(host_name)\n",
    "print('HOST IP:',host_ip)\n",
    "port = 9999\n",
    "socket_address = (host_ip,port)\n",
    "\n",
    "# Socket Bind\n",
    "server_socket.bind(socket_address)\n",
    "\n",
    "# Socket Listen\n",
    "server_socket.listen(5)\n",
    "print(\"LISTENING AT:\",socket_address)\n",
    "\n",
    "# Socket Accept\n",
    "while True:\n",
    "\tclient_socket,addr = server_socket.accept()\n",
    "\tprint('GOT CONNECTION FROM:',addr)\n",
    "\tif client_socket:\n",
    "\t\tvid = cv2.VideoCapture(1)\n",
    "\t\t\n",
    "\t\twhile(vid.isOpened()):\n",
    "\t\t\timg,frame = vid.read()\n",
    "\t\t\tframe = imutils.resize(frame,width=320)\n",
    "\t\t\ta = pickle.dumps(frame)\n",
    "\t\t\tmessage = struct.pack(\"Q\",len(a))+a\n",
    "\t\t\tclient_socket.sendall(message)\n",
    "\t\t\t\n",
    "\t\t\tcv2.imshow('TRANSMITTING VIDEO',frame)\n",
    "\t\t\tkey = cv2.waitKey(1)\n",
    "\t\t\tif key ==ord('q'):\n",
    "\t\t\t\tclient_socket.close()\n",
    "\t\t\t\tbreak\n",
    "\t\tvid.release()\n",
    "\t\tcv2.destroyAllWindows()"
   ]
  },
  {
   "cell_type": "code",
   "execution_count": null,
   "metadata": {},
   "outputs": [],
   "source": []
  }
 ],
 "metadata": {
  "interpreter": {
   "hash": "ba7fcf98e560f3f626384a082608c9f5cfa72af1f5b12f4ab9ca0d667cf3160a"
  },
  "kernelspec": {
   "display_name": "Python 3.6.8 64-bit",
   "language": "python",
   "name": "python3"
  },
  "language_info": {
   "codemirror_mode": {
    "name": "ipython",
    "version": 3
   },
   "file_extension": ".py",
   "mimetype": "text/x-python",
   "name": "python",
   "nbconvert_exporter": "python",
   "pygments_lexer": "ipython3",
   "version": "3.6.8"
  },
  "orig_nbformat": 4
 },
 "nbformat": 4,
 "nbformat_minor": 2
}
